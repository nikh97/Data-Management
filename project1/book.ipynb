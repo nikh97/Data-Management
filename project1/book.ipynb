{
 "cells": [
  {
   "cell_type": "markdown",
   "metadata": {},
   "source": [
    "# Homework 01 - Part 2: Oh Darcy!\n",
    "\n",
    "Question: How many times is each character in Pride and Prejudice mentioned throughout the entire book?\n",
    "\n",
    "Methodology:\n",
    "\n",
    "1. First create a dictionary with every key being a characters name and then the corresponding values being the number of times the character is mentioned (this will be updated)\n",
    "\n",
    "2. After opening and reading the file, use a two nested for loops\n",
    "\n",
    "3. The first for loop will go line by line through the book, while the second checks whether any of the character keys gets mentioned in the line. (Use the string.lower() method to be consistent)\n",
    "\n",
    "4. After use the sorted method to get a list of tuples that orders the dictionary by value\n",
    "\n",
    "5. Output the result"
   ]
  },
  {
   "cell_type": "code",
   "execution_count": 94,
   "metadata": {
    "collapsed": true
   },
   "outputs": [],
   "source": [
    "import operator\n",
    "\n",
    "char_count = {'Fitzwilliam':0, 'Elizabeth': 0, 'Charles':0, 'George': 0, 'Lady Catherine': 0, 'Jane': 0, 'Caroline': 0, \n",
    "              'Lydia': 0, 'Mary': 0, 'Charlotte': 0, 'Georgiana': 0, 'Kitty': 0, 'Collins': 0, 'Mr. Bennet': 0,\n",
    "              'Mrs. Bennet': 0, 'Mr. Gardiner': 0, 'Mrs. Gardiner': 0}"
   ]
  },
  {
   "cell_type": "code",
   "execution_count": 95,
   "metadata": {
    "collapsed": false
   },
   "outputs": [
    {
     "name": "stdout",
     "output_type": "stream",
     "text": [
      "File was successfully read and analyzed!\n",
      "\n"
     ]
    }
   ],
   "source": [
    "try:\n",
    "    with open(\"pride&prejudice.txt\", 'r') as book:\n",
    "        \n",
    "        for line in book:\n",
    "            \n",
    "            for character in  char_count:\n",
    "        \n",
    "                if character.lower() in line.lower():\n",
    "            \n",
    "                    char_count[character] += 1\n",
    "                \n",
    "        print('File was successfully read and analyzed!')\n",
    "        \n",
    "        book.close()\n",
    "                \n",
    "except FileNotFoundError:\n",
    "    print(\"File was not found.\")\n",
    "    \n",
    "print()\n",
    "    "
   ]
  },
  {
   "cell_type": "code",
   "execution_count": 96,
   "metadata": {
    "collapsed": false
   },
   "outputs": [],
   "source": [
    "sorted_dict = sorted(char_count.items(), key=operator.itemgetter(1))"
   ]
  },
  {
   "cell_type": "code",
   "execution_count": 97,
   "metadata": {
    "collapsed": false
   },
   "outputs": [
    {
     "name": "stdout",
     "output_type": "stream",
     "text": [
      "[('Charles', 7), ('George', 8), ('Georgiana', 15), ('Caroline', 17), ('Mr. Gardiner', 30), ('Fitzwilliam', 37), ('Mary', 40), ('Mrs. Gardiner', 54), ('Kitty', 70), ('Charlotte', 86), ('Mr. Bennet', 86), ('Lady Catherine', 101), ('Mrs. Bennet', 133), ('Lydia', 167), ('Collins', 184), ('Jane', 290), ('Elizabeth', 633)]\n"
     ]
    }
   ],
   "source": [
    "print(sorted_dict)"
   ]
  },
  {
   "cell_type": "code",
   "execution_count": 98,
   "metadata": {
    "collapsed": true
   },
   "outputs": [],
   "source": [
    "together = enumerate(sorted_dict)"
   ]
  },
  {
   "cell_type": "code",
   "execution_count": 99,
   "metadata": {
    "collapsed": false
   },
   "outputs": [
    {
     "name": "stdout",
     "output_type": "stream",
     "text": [
      "This is the number of times each character\n",
      "appears in ascending order:\n",
      "\n",
      "1  Charles  -  7\n",
      "2  George  -  8\n",
      "3  Georgiana  -  15\n",
      "4  Caroline  -  17\n",
      "5  Mr. Gardiner  -  30\n",
      "6  Fitzwilliam  -  37\n",
      "7  Mary  -  40\n",
      "8  Mrs. Gardiner  -  54\n",
      "9  Kitty  -  70\n",
      "10 Charlotte  -  86\n",
      "11 Mr. Bennet  -  86\n",
      "12 Lady Catherine  -  101\n",
      "13 Mrs. Bennet  -  133\n",
      "14 Lydia  -  167\n",
      "15 Collins  -  184\n",
      "16 Jane  -  290\n",
      "17 Elizabeth  -  633\n"
     ]
    }
   ],
   "source": [
    "print(\"This is the number of times each character\\nappears in ascending order:\\n\")\n",
    "\n",
    "for i, item in together:\n",
    "    print('{:<2}'.format(i+1), item[0], ' - ', item[1])"
   ]
  }
 ],
 "metadata": {
  "kernelspec": {
   "display_name": "Python 3",
   "language": "python",
   "name": "python3"
  },
  "language_info": {
   "codemirror_mode": {
    "name": "ipython",
    "version": 3
   },
   "file_extension": ".py",
   "mimetype": "text/x-python",
   "name": "python",
   "nbconvert_exporter": "python",
   "pygments_lexer": "ipython3",
   "version": "3.6.0"
  }
 },
 "nbformat": 4,
 "nbformat_minor": 2
}
