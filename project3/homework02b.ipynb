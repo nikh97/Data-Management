{
 "cells": [
  {
   "cell_type": "markdown",
   "metadata": {},
   "source": [
    "For this part of the assignment, I will be using regular python to clean and analyze the data just as I did in part a"
   ]
  },
  {
   "cell_type": "code",
   "execution_count": 1,
   "metadata": {
    "collapsed": true
   },
   "outputs": [],
   "source": [
    "import csv"
   ]
  },
  {
   "cell_type": "code",
   "execution_count": 2,
   "metadata": {
    "collapsed": true
   },
   "outputs": [],
   "source": [
    "filename = 'Citywide_Payroll_Data__Fiscal_Year_.csv'"
   ]
  },
  {
   "cell_type": "code",
   "execution_count": 3,
   "metadata": {
    "collapsed": true
   },
   "outputs": [],
   "source": [
    "payroll = []"
   ]
  },
  {
   "cell_type": "code",
   "execution_count": 4,
   "metadata": {
    "collapsed": false
   },
   "outputs": [],
   "source": [
    "with open(filename, 'r') as csvfile:\n",
    "    \n",
    "    csvreader = csv.reader(csvfile)\n",
    "    \n",
    "    for row in csvreader:\n",
    "        payroll.append(row)"
   ]
  },
  {
   "cell_type": "code",
   "execution_count": 5,
   "metadata": {
    "collapsed": true
   },
   "outputs": [],
   "source": [
    "fields = payroll.pop(0)"
   ]
  },
  {
   "cell_type": "code",
   "execution_count": 6,
   "metadata": {
    "collapsed": false
   },
   "outputs": [
    {
     "data": {
      "text/plain": [
       "['Fiscal Year',\n",
       " 'Payroll Number',\n",
       " 'Agency Name',\n",
       " 'Last Name',\n",
       " 'First Name',\n",
       " 'Mid Init',\n",
       " 'Agency Start Date',\n",
       " 'Work Location Borough',\n",
       " 'Title Description',\n",
       " 'Leave Status as of June 30',\n",
       " 'Base Salary',\n",
       " 'Pay Basis',\n",
       " 'Regular Hours',\n",
       " 'Regular Gross Paid',\n",
       " 'OT Hours',\n",
       " 'Total OT Paid',\n",
       " 'Total Other Pay']"
      ]
     },
     "execution_count": 6,
     "metadata": {},
     "output_type": "execute_result"
    }
   ],
   "source": [
    "fields"
   ]
  },
  {
   "cell_type": "code",
   "execution_count": 7,
   "metadata": {
    "collapsed": true
   },
   "outputs": [],
   "source": [
    "## now I will rename some columns\n",
    "\n",
    "fields[7] = 'Work Location'\n",
    "fields[9] = 'Leave Status'"
   ]
  },
  {
   "cell_type": "code",
   "execution_count": 8,
   "metadata": {
    "collapsed": false
   },
   "outputs": [
    {
     "data": {
      "text/plain": [
       "['Fiscal Year',\n",
       " 'Payroll Number',\n",
       " 'Agency Name',\n",
       " 'Last Name',\n",
       " 'First Name',\n",
       " 'Mid Init',\n",
       " 'Agency Start Date',\n",
       " 'Work Location',\n",
       " 'Title Description',\n",
       " 'Leave Status',\n",
       " 'Base Salary',\n",
       " 'Pay Basis',\n",
       " 'Regular Hours',\n",
       " 'Regular Gross Paid',\n",
       " 'OT Hours',\n",
       " 'Total OT Paid',\n",
       " 'Total Other Pay']"
      ]
     },
     "execution_count": 8,
     "metadata": {},
     "output_type": "execute_result"
    }
   ],
   "source": [
    "fields"
   ]
  },
  {
   "cell_type": "code",
   "execution_count": 9,
   "metadata": {
    "collapsed": true
   },
   "outputs": [],
   "source": [
    "## now I will get rid of some columns as I did in part A\n",
    "\n",
    "unwanted = [0, 1, 5, 6]\n",
    "\n",
    "fields = [fields[i] for i in range(len(fields)) if i not in unwanted]"
   ]
  },
  {
   "cell_type": "code",
   "execution_count": 10,
   "metadata": {
    "collapsed": false
   },
   "outputs": [
    {
     "data": {
      "text/plain": [
       "['Agency Name',\n",
       " 'Last Name',\n",
       " 'First Name',\n",
       " 'Work Location',\n",
       " 'Title Description',\n",
       " 'Leave Status',\n",
       " 'Base Salary',\n",
       " 'Pay Basis',\n",
       " 'Regular Hours',\n",
       " 'Regular Gross Paid',\n",
       " 'OT Hours',\n",
       " 'Total OT Paid',\n",
       " 'Total Other Pay']"
      ]
     },
     "execution_count": 10,
     "metadata": {},
     "output_type": "execute_result"
    }
   ],
   "source": [
    "fields"
   ]
  },
  {
   "cell_type": "code",
   "execution_count": 11,
   "metadata": {
    "collapsed": false
   },
   "outputs": [],
   "source": [
    "for i, row in enumerate(payroll):\n",
    "    \n",
    "    payroll[i] = [row[x] for x in range(len(row)) if x not in unwanted]"
   ]
  },
  {
   "cell_type": "code",
   "execution_count": 12,
   "metadata": {
    "collapsed": false
   },
   "outputs": [
    {
     "data": {
      "text/plain": [
       "[['POLICE DEPARTMENT',\n",
       "  'KYLE',\n",
       "  'ROBERT',\n",
       "  'MANHATTAN',\n",
       "  'POLICE OFFICER',\n",
       "  'CEASED',\n",
       "  '85292.00',\n",
       "  'per Annum',\n",
       "  '1034.28',\n",
       "  '43697.19',\n",
       "  '0',\n",
       "  '-563.90',\n",
       "  '11083.10'],\n",
       " ['POLICE DEPARTMENT',\n",
       "  'DONZO',\n",
       "  'MOHAMMED',\n",
       "  'MANHATTAN',\n",
       "  'POLICE OFFICER',\n",
       "  'CEASED',\n",
       "  '85292.00',\n",
       "  'per Annum',\n",
       "  '1314.28',\n",
       "  '55147.19',\n",
       "  '0',\n",
       "  '-537.22',\n",
       "  '13143.56'],\n",
       " ['POLICE DEPARTMENT',\n",
       "  'INFANZON',\n",
       "  'GRETCHEN',\n",
       "  'MANHATTAN',\n",
       "  'POLICE OFFICER',\n",
       "  'ON LEAVE',\n",
       "  '85292.00',\n",
       "  'per Annum',\n",
       "  '1742.87',\n",
       "  '60527.31',\n",
       "  '0',\n",
       "  '-537.10',\n",
       "  '8980.93']]"
      ]
     },
     "execution_count": 12,
     "metadata": {},
     "output_type": "execute_result"
    }
   ],
   "source": [
    "payroll[0:3]"
   ]
  },
  {
   "cell_type": "code",
   "execution_count": 13,
   "metadata": {
    "collapsed": true
   },
   "outputs": [],
   "source": [
    "## Now I will attempt to remove employees who are not active and not on a per Annum basis\n",
    "status_in = 5\n",
    "basis_in = 7"
   ]
  },
  {
   "cell_type": "code",
   "execution_count": 14,
   "metadata": {
    "collapsed": true
   },
   "outputs": [],
   "source": [
    "## this takes some time to run\n",
    "j = 0\n",
    "\n",
    "\n",
    "while (j < len(payroll)):  \n",
    "    if payroll[j][status_in] != 'ACTIVE' or payroll[j][basis_in] != 'per Annum':     \n",
    "        payroll.pop(j)\n",
    "    else:\n",
    "        j += 1\n",
    "       "
   ]
  },
  {
   "cell_type": "code",
   "execution_count": 15,
   "metadata": {
    "collapsed": false
   },
   "outputs": [
    {
     "data": {
      "text/plain": [
       "298096"
      ]
     },
     "execution_count": 15,
     "metadata": {},
     "output_type": "execute_result"
    }
   ],
   "source": [
    "len(payroll)"
   ]
  },
  {
   "cell_type": "code",
   "execution_count": 16,
   "metadata": {
    "collapsed": false
   },
   "outputs": [
    {
     "data": {
      "text/plain": [
       "[['POLICE DEPARTMENT',\n",
       "  'CORTIELLA',\n",
       "  'LINA',\n",
       "  'BROOKLYN',\n",
       "  'POLICE ADMINISTRATIVE AIDE',\n",
       "  'ACTIVE',\n",
       "  '40514.00',\n",
       "  'per Annum',\n",
       "  '1790',\n",
       "  '40402.96',\n",
       "  '0',\n",
       "  '-23.08',\n",
       "  '1814.33'],\n",
       " ['POLICE DEPARTMENT',\n",
       "  'TORRES',\n",
       "  'NAYELI',\n",
       "  'BRONX',\n",
       "  'POLICE ADMINISTRATIVE AIDE',\n",
       "  'ACTIVE',\n",
       "  '41683.00',\n",
       "  'per Annum',\n",
       "  '1636',\n",
       "  '32340.12',\n",
       "  '0',\n",
       "  '-19.24',\n",
       "  '701.29'],\n",
       " ['POLICE DEPARTMENT',\n",
       "  'MARTIN',\n",
       "  'GARY',\n",
       "  'BRONX',\n",
       "  'POLICE OFFICER',\n",
       "  'ACTIVE',\n",
       "  '85292.00',\n",
       "  'per Annum',\n",
       "  '2045.72',\n",
       "  '85058.22',\n",
       "  '1.33',\n",
       "  '-15.97',\n",
       "  '22046.66']]"
      ]
     },
     "execution_count": 16,
     "metadata": {},
     "output_type": "execute_result"
    }
   ],
   "source": [
    "payroll[0:3]"
   ]
  },
  {
   "cell_type": "markdown",
   "metadata": {},
   "source": [
    "Now the last part to the cleaning is to remove all the regular hours that are less than or equal to 0 and to convert\n",
    "strings to floats for numeric values"
   ]
  },
  {
   "cell_type": "code",
   "execution_count": 17,
   "metadata": {
    "collapsed": false
   },
   "outputs": [],
   "source": [
    "zeros = 0\n",
    "hours_in = fields.index('Regular Hours')\n",
    "for row in payroll:\n",
    "    if float(row[hours_in]) <= 0:\n",
    "        row[hours_in] = '2087'"
   ]
  },
  {
   "cell_type": "code",
   "execution_count": 18,
   "metadata": {
    "collapsed": false
   },
   "outputs": [
    {
     "data": {
      "text/plain": [
       "0"
      ]
     },
     "execution_count": 18,
     "metadata": {},
     "output_type": "execute_result"
    }
   ],
   "source": [
    "for row in payroll:\n",
    "    if float(row[hours_in]) <= 0:\n",
    "        zeros += 1\n",
    "zeros"
   ]
  },
  {
   "cell_type": "code",
   "execution_count": 19,
   "metadata": {
    "collapsed": true
   },
   "outputs": [],
   "source": [
    "float_in = [6, 8, 9, 10, 11, 12]\n",
    "for row in payroll:\n",
    "    for i in float_in:\n",
    "        row[i] = float(row[i])"
   ]
  },
  {
   "cell_type": "code",
   "execution_count": 20,
   "metadata": {
    "collapsed": false
   },
   "outputs": [
    {
     "data": {
      "text/plain": [
       "[['POLICE DEPARTMENT',\n",
       "  'CORTIELLA',\n",
       "  'LINA',\n",
       "  'BROOKLYN',\n",
       "  'POLICE ADMINISTRATIVE AIDE',\n",
       "  'ACTIVE',\n",
       "  40514.0,\n",
       "  'per Annum',\n",
       "  1790.0,\n",
       "  40402.96,\n",
       "  0.0,\n",
       "  -23.08,\n",
       "  1814.33],\n",
       " ['POLICE DEPARTMENT',\n",
       "  'TORRES',\n",
       "  'NAYELI',\n",
       "  'BRONX',\n",
       "  'POLICE ADMINISTRATIVE AIDE',\n",
       "  'ACTIVE',\n",
       "  41683.0,\n",
       "  'per Annum',\n",
       "  1636.0,\n",
       "  32340.12,\n",
       "  0.0,\n",
       "  -19.24,\n",
       "  701.29],\n",
       " ['POLICE DEPARTMENT',\n",
       "  'MARTIN',\n",
       "  'GARY',\n",
       "  'BRONX',\n",
       "  'POLICE OFFICER',\n",
       "  'ACTIVE',\n",
       "  85292.0,\n",
       "  'per Annum',\n",
       "  2045.72,\n",
       "  85058.22,\n",
       "  1.33,\n",
       "  -15.97,\n",
       "  22046.66]]"
      ]
     },
     "execution_count": 20,
     "metadata": {},
     "output_type": "execute_result"
    }
   ],
   "source": [
    "payroll[0:3]"
   ]
  },
  {
   "cell_type": "code",
   "execution_count": 21,
   "metadata": {
    "collapsed": true
   },
   "outputs": [],
   "source": [
    "## Now that the data is clean, let us add the hourly pay and total hours worked"
   ]
  },
  {
   "cell_type": "code",
   "execution_count": 22,
   "metadata": {
    "collapsed": false
   },
   "outputs": [],
   "source": [
    "fields += ['Hourly Pay', 'Total Hours']"
   ]
  },
  {
   "cell_type": "code",
   "execution_count": 23,
   "metadata": {
    "collapsed": false
   },
   "outputs": [
    {
     "data": {
      "text/plain": [
       "['Agency Name',\n",
       " 'Last Name',\n",
       " 'First Name',\n",
       " 'Work Location',\n",
       " 'Title Description',\n",
       " 'Leave Status',\n",
       " 'Base Salary',\n",
       " 'Pay Basis',\n",
       " 'Regular Hours',\n",
       " 'Regular Gross Paid',\n",
       " 'OT Hours',\n",
       " 'Total OT Paid',\n",
       " 'Total Other Pay',\n",
       " 'Hourly Pay',\n",
       " 'Total Hours']"
      ]
     },
     "execution_count": 23,
     "metadata": {},
     "output_type": "execute_result"
    }
   ],
   "source": [
    "fields"
   ]
  },
  {
   "cell_type": "code",
   "execution_count": 24,
   "metadata": {
    "collapsed": true
   },
   "outputs": [],
   "source": [
    "for row in payroll:\n",
    "    \n",
    "    row.append(row[6] / row[8])\n",
    "    row.append(row[8] + row[10])"
   ]
  },
  {
   "cell_type": "code",
   "execution_count": 25,
   "metadata": {
    "collapsed": false
   },
   "outputs": [
    {
     "data": {
      "text/plain": [
       "[['POLICE DEPARTMENT',\n",
       "  'CORTIELLA',\n",
       "  'LINA',\n",
       "  'BROOKLYN',\n",
       "  'POLICE ADMINISTRATIVE AIDE',\n",
       "  'ACTIVE',\n",
       "  40514.0,\n",
       "  'per Annum',\n",
       "  1790.0,\n",
       "  40402.96,\n",
       "  0.0,\n",
       "  -23.08,\n",
       "  1814.33,\n",
       "  22.633519553072627,\n",
       "  1790.0],\n",
       " ['POLICE DEPARTMENT',\n",
       "  'TORRES',\n",
       "  'NAYELI',\n",
       "  'BRONX',\n",
       "  'POLICE ADMINISTRATIVE AIDE',\n",
       "  'ACTIVE',\n",
       "  41683.0,\n",
       "  'per Annum',\n",
       "  1636.0,\n",
       "  32340.12,\n",
       "  0.0,\n",
       "  -19.24,\n",
       "  701.29,\n",
       "  25.478606356968214,\n",
       "  1636.0],\n",
       " ['POLICE DEPARTMENT',\n",
       "  'MARTIN',\n",
       "  'GARY',\n",
       "  'BRONX',\n",
       "  'POLICE OFFICER',\n",
       "  'ACTIVE',\n",
       "  85292.0,\n",
       "  'per Annum',\n",
       "  2045.72,\n",
       "  85058.22,\n",
       "  1.33,\n",
       "  -15.97,\n",
       "  22046.66,\n",
       "  41.692900299161174,\n",
       "  2047.05]]"
      ]
     },
     "execution_count": 25,
     "metadata": {},
     "output_type": "execute_result"
    }
   ],
   "source": [
    "payroll[0:3]"
   ]
  },
  {
   "cell_type": "markdown",
   "metadata": {},
   "source": [
    "Now to calculate my descriptive statistics, it may be a little difficult, but I will attempt this using some dictionaries"
   ]
  },
  {
   "cell_type": "code",
   "execution_count": 26,
   "metadata": {
    "collapsed": true
   },
   "outputs": [],
   "source": [
    "pay_dict = {} ## dictionary whose values are a list of all hourly pay rates at for each dept\n",
    "hours_dict = {} ## dictionary whose values are a list of all of hours worked for each dept\n",
    "dept_dict = {} ## dictionary whose values are the number of employees in the dept\n",
    "loc_dict = {} ## dictionary whose values are a list of all employees in each location"
   ]
  },
  {
   "cell_type": "code",
   "execution_count": 27,
   "metadata": {
    "collapsed": false
   },
   "outputs": [],
   "source": [
    "for row in payroll:\n",
    "    \n",
    "    if row[0] not in pay_dict:\n",
    "        \n",
    "        pay_dict[row[0]] = []\n",
    "        hours_dict[row[0]] = []\n",
    "        dept_dict[row[0]] = 0\n",
    "        \n",
    "    pay_dict[row[0]].append(row[13])\n",
    "    hours_dict[row[0]].append(row[14])\n",
    "    dept_dict[row[0]] += 1\n",
    "\n",
    "for row in payroll:\n",
    "    \n",
    "    if row[3] not in loc_dict:\n",
    "        loc_dict[row[3]] = 0\n",
    "    loc_dict[row[3]] += 1\n",
    "        "
   ]
  },
  {
   "cell_type": "code",
   "execution_count": 28,
   "metadata": {
    "collapsed": true
   },
   "outputs": [],
   "source": [
    "## I will use the built-in statistics module for python\n",
    "\n",
    "import statistics as stat"
   ]
  },
  {
   "cell_type": "code",
   "execution_count": 29,
   "metadata": {
    "collapsed": true
   },
   "outputs": [],
   "source": [
    "## These dictionaries essentially will create the Series for the descriptive stats like in part a\n",
    "\n",
    "mean_sal_data = {}\n",
    "med_sal_data = {}\n",
    "min_sal_data = {}\n",
    "max_sal_data = {}\n",
    "\n",
    "mean_hour_data = {}\n",
    "med_hour_data = {}\n",
    "min_hour_data = {}\n",
    "max_hour_data = {}"
   ]
  },
  {
   "cell_type": "code",
   "execution_count": 30,
   "metadata": {
    "collapsed": false
   },
   "outputs": [],
   "source": [
    "for key in pay_dict:\n",
    "    \n",
    "    mean_sal_data[key] = stat.mean(pay_dict[key])\n",
    "    med_sal_data[key] = stat.median(pay_dict[key])\n",
    "    min_sal_data[key] = min(pay_dict[key])\n",
    "    max_sal_data[key] = max(pay_dict[key])\n",
    "\n",
    "    mean_hour_data[key] = stat.mean(hours_dict[key])\n",
    "    med_hour_data[key] = stat.median(hours_dict[key])\n",
    "    min_hour_data[key] = min(hours_dict[key])\n",
    "    max_hour_data[key] = max(hours_dict[key])"
   ]
  },
  {
   "cell_type": "code",
   "execution_count": 31,
   "metadata": {
    "collapsed": true
   },
   "outputs": [],
   "source": [
    "## a1_sorted_keys = sorted(a1, key=a1.get, reverse=True)\n",
    "\n",
    "sorted_mean_sal_keys = sorted(mean_sal_data, key=mean_sal_data.get, reverse=True)\n",
    "sorted_med_sal_keys = sorted(med_sal_data, key=med_sal_data.get, reverse=True)\n",
    "sorted_min_sal_keys = sorted(min_sal_data, key=min_sal_data.get, reverse=True)\n",
    "sorted_max_sal_keys = sorted(max_sal_data, key=max_sal_data.get, reverse=True)"
   ]
  },
  {
   "cell_type": "code",
   "execution_count": 32,
   "metadata": {
    "collapsed": true
   },
   "outputs": [],
   "source": [
    "sorted_mean_hour_keys = sorted(mean_hour_data, key=mean_hour_data.get, reverse=True)\n",
    "sorted_med_hour_keys = sorted(med_hour_data, key=med_hour_data.get, reverse=True)\n",
    "sorted_min_hour_keys = sorted(min_hour_data, key=min_hour_data.get, reverse=True)\n",
    "sorted_max_hour_keys = sorted(max_hour_data, key=max_hour_data.get, reverse=True)"
   ]
  },
  {
   "cell_type": "code",
   "execution_count": 33,
   "metadata": {
    "collapsed": false
   },
   "outputs": [
    {
     "name": "stdout",
     "output_type": "stream",
     "text": [
      "Top 10 mean salaries:\n",
      "BRONX COMMUNITY BOARD #8 375.3285182229316\n",
      "COMMUNITY COLLEGE (MANHATTAN) 179.60232326080802\n",
      "COMMUNITY COLLEGE (QUEENSBORO) 170.81177825418382\n",
      "COMMUNITY COLLEGE (KINGSBORO) 163.28917477154067\n",
      "COMMUNITY COLLEGE (LAGUARDIA) 156.9612504197413\n",
      "COMMUNITY COLLEGE (BRONX) 156.73052009306696\n",
      "GUTTMAN COMMUNITY COLLEGE 153.17556199068275\n",
      "COMMUNITY COLLEGE (HOSTOS) 150.99332760370544\n",
      "BROOKLYN COMMUNITY BOARD #6 138.29603617983508\n",
      "OFFICE OF THE MAYOR 119.36212500674118\n"
     ]
    }
   ],
   "source": [
    "print(\"Top 10 mean salaries:\")\n",
    "for i in range(10):\n",
    "    print(sorted_mean_sal_keys[i], mean_sal_data[sorted_mean_sal_keys[i]])"
   ]
  },
  {
   "cell_type": "code",
   "execution_count": 34,
   "metadata": {
    "collapsed": false
   },
   "outputs": [
    {
     "name": "stdout",
     "output_type": "stream",
     "text": [
      "Top 10 median salaries:\n",
      "MANHATTAN COMMUNITY BOARD #8 77.00694039919743\n",
      "COMMUNITY COLLEGE (MANHATTAN) 70.40273972602739\n",
      "OFFICE OF COLLECTIVE BARGAININ 65.59776536312849\n",
      "GUTTMAN COMMUNITY COLLEGE 64.17534246575343\n",
      "FINANCIAL INFO SVCS AGENCY 63.78100558659218\n",
      "COMMUNITY COLLEGE (QUEENSBORO) 61.824444444444445\n",
      "BRONX COMMUNITY BOARD #3 59.840782122905026\n",
      "BRONX COMMUNITY BOARD #1 59.594692737430165\n",
      "HUNTER COLLEGE HIGH SCHOOL 59.09841835342115\n",
      "EQUAL EMPLOY PRACTICES COMM 56.38715083798883\n"
     ]
    }
   ],
   "source": [
    "print(\"Top 10 median salaries:\")\n",
    "for i in range(10):\n",
    "    print(sorted_med_sal_keys[i], med_sal_data[sorted_med_sal_keys[i]])"
   ]
  },
  {
   "cell_type": "code",
   "execution_count": 35,
   "metadata": {
    "collapsed": false
   },
   "outputs": [
    {
     "name": "stdout",
     "output_type": "stream",
     "text": [
      "Top 10 max salaries:\n",
      "DEPT OF ENVIRONMENT PROTECTION 8835.2\n",
      "OFFICE OF THE MAYOR 4285.714285714285\n",
      "FINANCIAL INFO SVCS AGENCY 3714.285714285714\n",
      "FIRE DEPARTMENT 3714.285714285714\n",
      "NYC EMPLOYEES RETIREMENT SYS 3714.285714285714\n",
      "CITY COUNCIL 3619.714285714286\n",
      "HOUSING PRESERVATION & DVLPMNT 3571.4285714285716\n",
      "POLICE DEPARTMENT 3540.785714285714\n",
      "DEPARTMENT OF EDUCATION ADMIN 3428.5714285714284\n",
      "OFF OF PAYROLL ADMINISTRATION 3142.8571428571427\n"
     ]
    }
   ],
   "source": [
    "print(\"Top 10 max salaries:\")\n",
    "for i in range(10):\n",
    "    print(sorted_max_sal_keys[i], max_sal_data[sorted_max_sal_keys[i]])"
   ]
  },
  {
   "cell_type": "code",
   "execution_count": 36,
   "metadata": {
    "collapsed": false
   },
   "outputs": [
    {
     "name": "stdout",
     "output_type": "stream",
     "text": [
      "Top 10 min salaries:\n",
      "MANHATTAN COMMUNITY BOARD #8 59.216192937123175\n",
      "STATEN ISLAND COMMUNITY BD #2 51.792564245810055\n",
      "BRONX COMMUNITY BOARD #3 46.64804469273743\n",
      "BRONX COMMUNITY BOARD #1 43.68156424581006\n",
      "BRONX COMMUNITY BOARD #12 41.63296089385475\n",
      "BROOKLYN COMMUNITY BOARD #10 40.493854748603354\n",
      "MANHATTAN COMMUNITY BOARD #6 39.63133640552996\n",
      "QUEENS COMMUNITY BOARD #14 39.03240223463687\n",
      "MANHATTAN COMMUNITY BOARD #1 36.82905027932961\n",
      "QUEENS COMMUNITY BOARD #11 36.40782122905028\n"
     ]
    }
   ],
   "source": [
    "print(\"Top 10 min salaries:\")\n",
    "for i in range(10):\n",
    "    print(sorted_min_sal_keys[i], min_sal_data[sorted_min_sal_keys[i]])"
   ]
  },
  {
   "cell_type": "code",
   "execution_count": 37,
   "metadata": {
    "collapsed": false
   },
   "outputs": [
    {
     "name": "stdout",
     "output_type": "stream",
     "text": [
      "Top 10 mean hours:\n",
      "DEPARTMENT OF SANITATION 2304.934521522992\n",
      "FIRE DEPARTMENT 2285.609741554256\n",
      "DEPARTMENT OF CORRECTION 2210.408969141512\n",
      "POLICE DEPARTMENT 2173.8321833133323\n",
      "DEPT OF ED PARA PROFESSIONALS 2087.0\n",
      "DEPT OF ED PEDAGOGICAL 2087.0\n",
      "NYC HOUSING AUTHORITY 2004.7277628205127\n",
      "BOARD OF ELECTION 2000.1283208955224\n",
      "DEPARTMENT OF TRANSPORTATION 1937.0200689274884\n",
      "DEPT OF CITYWIDE ADMIN SVCS 1921.8831056563502\n"
     ]
    }
   ],
   "source": [
    "print(\"Top 10 mean hours:\")\n",
    "for i in range(10):\n",
    "    print(sorted_mean_hour_keys[i], mean_hour_data[sorted_mean_hour_keys[i]])"
   ]
  },
  {
   "cell_type": "code",
   "execution_count": 38,
   "metadata": {
    "collapsed": false
   },
   "outputs": [
    {
     "name": "stdout",
     "output_type": "stream",
     "text": [
      "Top 10 median hours:\n",
      "DEPARTMENT OF SANITATION 2357.72\n",
      "FIRE DEPARTMENT 2342.6850000000004\n",
      "DEPARTMENT OF CORRECTION 2280.5699999999997\n",
      "POLICE DEPARTMENT 2213.2200000000003\n",
      "DEPT OF ED PARA PROFESSIONALS 2087.0\n",
      "DEPT OF ED PEDAGOGICAL 2087.0\n",
      "BOARD OF ELECTION 2026.0\n",
      "NYC HOUSING AUTHORITY 1985.095\n",
      "DEPT. OF HOMELESS SERVICES 1919.0\n",
      "DEPARTMENT OF PROBATION 1917.85\n"
     ]
    }
   ],
   "source": [
    "print(\"Top 10 median hours:\")\n",
    "for i in range(10):\n",
    "    print(sorted_med_hour_keys[i], med_hour_data[sorted_med_hour_keys[i]])"
   ]
  },
  {
   "cell_type": "code",
   "execution_count": 39,
   "metadata": {
    "collapsed": false
   },
   "outputs": [
    {
     "name": "stdout",
     "output_type": "stream",
     "text": [
      "Top 10 max hours:\n",
      "DEPARTMENT OF CORRECTION 4537.42\n",
      "DEPT OF CITYWIDE ADMIN SVCS 4505.45\n",
      "ADMIN FOR CHILDREN'S SVCS 4381.72\n",
      "DEPARTMENT OF BUILDINGS 4341.92\n",
      "FIRE DEPARTMENT 3926.9700000000003\n",
      "DISTRICT ATTORNEY-MANHATTAN 3797.25\n",
      "DEPT. OF HOMELESS SERVICES 3787.9700000000003\n",
      "DISTRICT ATTORNEY KINGS COUNTY 3756.7200000000003\n",
      "COMMUNITY COLLEGE (MANHATTAN) 3722.4700000000003\n",
      "NYC HOUSING AUTHORITY 3568.97\n"
     ]
    }
   ],
   "source": [
    "print(\"Top 10 max hours:\")\n",
    "for i in range(10):\n",
    "    print(sorted_max_hour_keys[i], max_hour_data[sorted_max_hour_keys[i]])"
   ]
  },
  {
   "cell_type": "code",
   "execution_count": 40,
   "metadata": {
    "collapsed": false
   },
   "outputs": [
    {
     "name": "stdout",
     "output_type": "stream",
     "text": [
      "Top 10 min hours:\n",
      "DEPT OF ED PARA PROFESSIONALS 2087.0\n",
      "DEPT OF ED PEDAGOGICAL 2087.0\n",
      "BROOKLYN COMMUNITY BOARD #13 1792.0\n",
      "PUBLIC ADMINISTRATOR-RICHMOND 1790.0\n",
      "STATEN ISLAND COMMUNITY BD #2 1790.0\n",
      "STATEN ISLAND COMMUNITY BD #1 1790.0\n",
      "BROOKLYN COMMUNITY BOARD #16 1790.0\n",
      "BROOKLYN COMMUNITY BOARD #14 1790.0\n",
      "BROOKLYN COMMUNITY BOARD #12 1790.0\n",
      "BROOKLYN COMMUNITY BOARD #11 1790.0\n"
     ]
    }
   ],
   "source": [
    "print(\"Top 10 min hours:\")\n",
    "for i in range(10):\n",
    "    print(sorted_min_hour_keys[i], min_hour_data[sorted_min_hour_keys[i]])"
   ]
  },
  {
   "cell_type": "code",
   "execution_count": 41,
   "metadata": {
    "collapsed": true
   },
   "outputs": [],
   "source": [
    "sorted_dept_keys = sorted(dept_dict, key=dept_dict.get, reverse=True)\n",
    "sorted_loc_keys = sorted(loc_dict, key=loc_dict.get, reverse=True)"
   ]
  },
  {
   "cell_type": "code",
   "execution_count": 42,
   "metadata": {
    "collapsed": false
   },
   "outputs": [
    {
     "name": "stdout",
     "output_type": "stream",
     "text": [
      "Top 10 departments by number of employees:\n",
      "DEPT OF ED PEDAGOGICAL 94686\n",
      "POLICE DEPARTMENT 50831\n",
      "DEPT OF ED PARA PROFESSIONALS 25127\n",
      "FIRE DEPARTMENT 16754\n",
      "HRA/DEPT OF SOCIAL SERVICES 12820\n",
      "DEPARTMENT OF CORRECTION 11893\n",
      "DEPARTMENT OF EDUCATION ADMIN 11321\n",
      "DEPARTMENT OF SANITATION 8851\n",
      "NYC HOUSING AUTHORITY 7800\n",
      "ADMIN FOR CHILDREN'S SVCS 6502\n"
     ]
    }
   ],
   "source": [
    "print(\"Top 10 departments by number of employees:\")\n",
    "for i in range(10):\n",
    "    print(sorted_dept_keys[i], dept_dict[sorted_dept_keys[i]])"
   ]
  },
  {
   "cell_type": "code",
   "execution_count": 43,
   "metadata": {
    "collapsed": false
   },
   "outputs": [
    {
     "name": "stdout",
     "output_type": "stream",
     "text": [
      "Top 10 locations by number of employees:\n",
      "MANHATTAN 181399\n",
      "QUEENS 44015\n",
      "BROOKLYN 37648\n",
      "BRONX 20892\n",
      "OTHER 7519\n",
      "RICHMOND 5561\n",
      "WESTCHESTER 479\n",
      "ULSTER 279\n",
      "SULLIVAN 110\n",
      "DELAWARE 77\n"
     ]
    }
   ],
   "source": [
    "print(\"Top 10 locations by number of employees:\")\n",
    "for i in range(10):\n",
    "    print(sorted_loc_keys[i], loc_dict[sorted_loc_keys[i]])"
   ]
  },
  {
   "cell_type": "markdown",
   "metadata": {
    "collapsed": true
   },
   "source": [
    "Challenges/ Compare and Contrast:\n",
    "\n",
    "When using python, I would say that it was more challenging in the fact that you had to go row by row in the 2D array. For example it took a couple of tries to delete rows, and was slow and inefficient compared to pandas. In addition, nothing could be done in one line as with pandas, which again meant that you had to think on a more algorithmic/logical level. However, the code wasn't too extensive relative to pandas. Another challenge, was visualizing the data to make sure everything was right a going well, regular python does make this much harder to do."
   ]
  },
  {
   "cell_type": "code",
   "execution_count": null,
   "metadata": {
    "collapsed": true
   },
   "outputs": [],
   "source": []
  }
 ],
 "metadata": {
  "kernelspec": {
   "display_name": "Python 3",
   "language": "python",
   "name": "python3"
  },
  "language_info": {
   "codemirror_mode": {
    "name": "ipython",
    "version": 3
   },
   "file_extension": ".py",
   "mimetype": "text/x-python",
   "name": "python",
   "nbconvert_exporter": "python",
   "pygments_lexer": "ipython3",
   "version": "3.6.6"
  }
 },
 "nbformat": 4,
 "nbformat_minor": 2
}
